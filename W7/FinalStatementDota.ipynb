{
 "cells": [
  {
   "cell_type": "markdown",
   "metadata": {},
   "source": [
    "#  Финальное задание\n",
    "\n",
    "\n"
   ]
  },
  {
   "cell_type": "markdown",
   "metadata": {},
   "source": [
    "## Часть 1. Градиентный бустинг над решающими деревьями\n",
    "\n",
    "\n",
    "Считайте таблицу с признаками из файла features.csv с помощью кода, приведенного выше. Удалите признаки, связанные с итогами матча (они помечены в описании данных как отсутствующие в тестовой выборке)."
   ]
  },
  {
   "cell_type": "code",
   "execution_count": 12,
   "metadata": {
    "collapsed": false
   },
   "outputs": [],
   "source": [
    "#%% Import features list\n",
    "import pandas\n",
    "df = pandas.read_csv('features.csv', index_col='match_id')\n",
    "X = df.copy();\n",
    "skipFieldList = ['tower_status_radiant',\n",
    "                 'tower_status_dire',\n",
    "                 'barracks_status_radiant',\n",
    "                 'barracks_status_dire',\n",
    "                 'duration',\n",
    "                 'radiant_win'];\n",
    "for f in skipFieldList:\n",
    "    X.drop(f,1,inplace=True)\n",
    "X = X.fillna(0);\n",
    "TargetField = 'radiant_win';\n",
    "y = df[TargetField];"
   ]
  },
  {
   "cell_type": "markdown",
   "metadata": {},
   "source": [
    "Проверьте выборку на наличие пропусков с помощью функции count(), которая для каждого столбца показывает число заполненных значений. Много ли пропусков в данных? Запишите названия признаков, имеющих пропуски, и попробуйте для любых двух из них дать обоснование, почему их значения могут быть пропущены."
   ]
  },
  {
   "cell_type": "code",
   "execution_count": 64,
   "metadata": {
    "collapsed": false
   },
   "outputs": [
    {
     "name": "stdout",
     "output_type": "stream",
     "text": [
      "List of fields, which not filled for all matches\n",
      "first_blood_time               77677\n",
      "first_blood_team               77677\n",
      "first_blood_player1            77677\n",
      "first_blood_player2            53243\n",
      "radiant_bottle_time            81539\n",
      "radiant_courier_time           96538\n",
      "radiant_flying_courier_time    69751\n",
      "radiant_first_ward_time        95394\n",
      "dire_bottle_time               81087\n",
      "dire_courier_time              96554\n",
      "dire_flying_courier_time       71132\n",
      "dire_first_ward_time           95404\n",
      "dtype: int64\n"
     ]
    }
   ],
   "source": [
    "fList = df.count();\n",
    "[Len, NF] = df.shape;\n",
    "print 'List of fields, which not filled for all matches'\n",
    "notFullFilled = fList[(fList!=Len)];\n",
    "print notFullFilled"
   ]
  },
  {
   "cell_type": "markdown",
   "metadata": {},
   "source": [
    "Пропущенные поля разбиваются на группы \n",
    "Группа полей \"первая кровь\" может быть не заполнена, тк в течении первых 5 минут матча не было ни одного столкновения. Заменять эти поля нулями было бы неправильно, тк это значит что стычек не было вообще, поэтому правильнее было бы удалить их.\n",
    "\n",
    "Вторая группа - связанные с применением вспомогательных предметов каждой командой - лошадка, лошадка с крыльями, бутылка, червяк с глазами. Возможно эти юниты не применялись в течении первых 5 минут матча и поэтому были исключены из выборки. Либо их применерие было ограничено в данных матчах.\n",
    "\n",
    "http://dota2.gamepedia.com/Flying_Courier\n",
    "http://dota2.gamepedia.com/Observer_Ward"
   ]
  },
  {
   "cell_type": "markdown",
   "metadata": {},
   "source": [
    "Замените пропуски на нули с помощью функции fillna(). На самом деле этот способ является предпочтительным для логистической регрессии, поскольку он позволит пропущенному значению не вносить никакого вклада в предсказание. Для деревьев часто лучшим вариантом оказывается замена пропуска на очень большое или очень маленькое значение — в этом случае при построении разбиения вершины можно будет отправить объекты с пропусками в отдельную ветвь дерева. Также есть и другие подходы — например, замена пропуска на среднее значение признака. Мы не требуем этого в задании, но при желании попробуйте разные подходы к обработке пропусков и сравните их между собой."
   ]
  },
  {
   "cell_type": "code",
   "execution_count": 14,
   "metadata": {
    "collapsed": true
   },
   "outputs": [],
   "source": [
    "X = X.fillna(0);"
   ]
  },
  {
   "cell_type": "markdown",
   "metadata": {},
   "source": [
    "4. Какой столбец содержит целевую переменную? Запишите его название"
   ]
  },
  {
   "cell_type": "code",
   "execution_count": 15,
   "metadata": {
    "collapsed": true
   },
   "outputs": [],
   "source": [
    "TargetField = 'radiant_win';\n",
    "y = df[TargetField];"
   ]
  },
  {
   "cell_type": "markdown",
   "metadata": {},
   "source": [
    "5. Забудем, что в выборке есть категориальные признаки, и попробуем обучить градиентный бустинг над деревьями на имеющейся\n",
    "матрице \"объекты-признаки\". Зафиксируйте генератор разбиений для кросс-валидации по 5 блокам (KFold), не забудьте перемешать при этом выборку (shuffle=True), поскольку данные в таблице отсортированы по времени, и без перемешивания можно столкнуться с нежелательными эффектами при оценивании качества. Оцените качество градиентного бустинга (GradientBoostingClassifier) с помощью данной кросс-валидации, попробуйте при этом разное количество деревьев (как минимум протестируйте следующие значения для количества деревьев: 10, 20, 30). Долго ли настраивались классификаторы? Достигнут ли оптимум на испытанных значениях параметра n_estimators, или же качество, скорее всего, продолжит расти при дальнейшем его увеличении?"
   ]
  },
  {
   "cell_type": "code",
   "execution_count": 20,
   "metadata": {
    "collapsed": false
   },
   "outputs": [
    {
     "name": "stdout",
     "output_type": "stream",
     "text": [
      "Start gredient boosting with n= 5\n",
      "Average score =  0.635672292845\n",
      "Time elapsed: 15  sec.\n",
      "Start gredient boosting with n= 10\n",
      "Average score =  0.664832922805\n",
      "Time elapsed: 26  sec.\n",
      "Start gredient boosting with n= 20\n",
      "Average score =  0.68211403695\n",
      "Time elapsed: 48  sec.\n",
      "Start gredient boosting with n= 30\n",
      "Average score =  0.689694754206\n",
      "Time elapsed: 68  sec.\n",
      "Start gredient boosting with n= 50\n",
      "Average score =  0.697113952608\n",
      "Time elapsed: 114  sec.\n",
      "Start gredient boosting with n= 100\n",
      "Average score =  0.706211346052\n",
      "Time elapsed: 226  sec.\n",
      "Start gredient boosting with n= 150\n",
      "Average score =  0.710357292435\n",
      "Time elapsed: 342  sec.\n"
     ]
    },
    {
     "data": {
      "image/png": "[encoded data removed]",
      "text/plain": [
       "<matplotlib.figure.Figure at 0xfa5e128>"
      ]
     },
     "metadata": {},
     "output_type": "display_data"
    }
   ],
   "source": [
    "import datetime\n",
    "start_time = datetime.datetime.now()\n",
    "from sklearn.ensemble import GradientBoostingClassifier\n",
    "from sklearn.cross_validation import KFold\n",
    "from sklearn.metrics import roc_auc_score\n",
    "n_folds = 5;\n",
    "kf = KFold(len(X), n_folds=n_folds, shuffle=True, random_state=1);\n",
    "scoreList = list()\n",
    "timeList =list();\n",
    "nEstimList =[ 5,10,20,30,50,100,150]\n",
    "for n in  nEstimList  :\n",
    "    clf = GradientBoostingClassifier(n_estimators=n, random_state=0);\n",
    "    score = 0;\n",
    "    start_time = datetime.datetime.now();\n",
    "    print 'Start gredient boosting with n=',n\n",
    "    for train_index, test_index in kf:\n",
    "        X_train, X_test = X.values[train_index,:], X.values[test_index,:]\n",
    "        y_train, y_test = y.values[train_index], y.values[test_index]\n",
    "\n",
    "        clf.fit(X_train,y_train)\n",
    "        y_pred = clf.predict_proba(X_test)[:,1];\n",
    "        s = roc_auc_score(y_test, y_pred)\n",
    "        score = score + s;\n",
    "    t = (datetime.datetime.now() - start_time).seconds;\n",
    "    timeList.append(t);\n",
    "    sAverage = score/n_folds;\n",
    "    print 'Average score = ', sAverage\n",
    "    scoreList.append(sAverage)\n",
    "    print 'Time elapsed:', t,' sec.'\n",
    "\n",
    "# Plot Results\n",
    "import matplotlib.pyplot as plt\n",
    "plt.plot(nEstimList,scoreList,'-ro')\n",
    "plt.title('Random Forest Classifier')\n",
    "plt.ylabel ('AUC ROC')\n",
    "plt.xlabel ('n_estimatorss')\n",
    "plt.show()\n"
   ]
  },
  {
   "cell_type": "markdown",
   "metadata": {},
   "source": [
    "Имеет ли смысл использовать больше 30 деревьев в градиентном бустинге? Что бы вы предложили делать, чтобы ускорить его обучение при увеличении количества деревьев?\n",
    "\n",
    "- Зависит от размеров данных и стоимости времени обучения. На данном наборе данных увеличение времени обучения с 70 секунд до 220 не кажется критичным, так что вполне можно увеличить количество деревьев до 100, чтобы получить 2% улучшение при троекратном росте времени.\n",
    "- Дальнейшее увеличение количества деревьев до 150 дает 6 кратный рост затрат по времени и 3% улучшения. Для данной задачи это кажется уже не приемлемым.\n",
    "- Можно уменьшить максимальную глубину каждого дерева с 3 до 2, это сократит время обучения примерно в 1.5 раза, но и качество обучения пострадает. Вместе с тем, у нас достаточно большое количество признаков,  так что можно упростить процесс в каждом дереве, установив max_features = 10. То есть каждое дерево при построении оптимального разделения будет рассматривать не всю сотню, а только 10 признаков. В этом случае деревья обучаются примерно в 3-4 раза быстрее при незначительном падении качества классификации, смотри код ниже. Вполне реально дождаться обучения с лесом из 200 деревьев.\n",
    "\n",
    "http://scikit-learn.org/stable/modules/generated/sklearn.ensemble.GradientBoostingClassifier.html"
   ]
  },
  {
   "cell_type": "code",
   "execution_count": 51,
   "metadata": {
    "collapsed": false
   },
   "outputs": [
    {
     "name": "stdout",
     "output_type": "stream",
     "text": [
      "Start gredient boosting with n= 5\n",
      "Average score =  0.63980634286\n",
      "Time elapsed: 7  sec.\n",
      "Start gredient boosting with n= 10\n",
      "Average score =  0.663574186581\n",
      "Time elapsed: 12  sec.\n",
      "Start gredient boosting with n= 20\n",
      "Average score =  0.680945856495\n",
      "Time elapsed: 20  sec.\n",
      "Start gredient boosting with n= 30\n",
      "Average score =  0.68818403634\n",
      "Time elapsed: 30  sec.\n",
      "Start gredient boosting with n= 50\n",
      "Average score =  0.696579829343\n",
      "Time elapsed: 48  sec.\n",
      "Start gredient boosting with n= 100\n",
      "Average score =  0.705603012025\n",
      "Time elapsed: 94  sec.\n",
      "Start gredient boosting with n= 150\n",
      "Average score =  0.709621040722\n",
      "Time elapsed: 139  sec.\n",
      "Start gredient boosting with n= 500\n",
      "Average score =  0.719551012284\n",
      "Time elapsed: 448  sec.\n",
      "Start gredient boosting with n= 1000\n",
      "Average score =  0.723172732131\n",
      "Time elapsed: 860  sec.\n"
     ]
    },
    {
     "data": {
      "image/png": "[encoded data removed]",
      "text/plain": [
       "<matplotlib.figure.Figure at 0x36930668>"
      ]
     },
     "metadata": {},
     "output_type": "display_data"
    }
   ],
   "source": [
    "import datetime\n",
    "start_time = datetime.datetime.now()\n",
    "from sklearn.ensemble import GradientBoostingClassifier\n",
    "from sklearn.cross_validation import KFold\n",
    "from sklearn.metrics import roc_auc_score\n",
    "n_folds = 5;\n",
    "kf = KFold(len(X), n_folds=n_folds, shuffle=True, random_state=1);\n",
    "scoreList = list()\n",
    "timeList =list();\n",
    "nEstimList =[ 5,10,20,30,50,100,150,500,1000]\n",
    "for n in  nEstimList  :\n",
    "    clf = GradientBoostingClassifier(n_estimators=n, random_state=0,max_features = 40);\n",
    "    score = 0;\n",
    "    start_time = datetime.datetime.now();\n",
    "    print 'Start gredient boosting with n=',n\n",
    "    for train_index, test_index in kf:\n",
    "        X_train, X_test = X.values[train_index,:], X.values[test_index,:]\n",
    "        y_train, y_test = y.values[train_index], y.values[test_index]\n",
    "\n",
    "        clf.fit(X_train,y_train)\n",
    "        y_pred = clf.predict_proba(X_test)[:,1];\n",
    "        s = roc_auc_score(y_test, y_pred)\n",
    "        score = score + s;\n",
    "    t = (datetime.datetime.now() - start_time).seconds;\n",
    "    timeList.append(t);\n",
    "    sAverage = score/n_folds;\n",
    "    print 'Average score = ', sAverage\n",
    "    scoreList.append(sAverage)\n",
    "    print 'Time elapsed:', t,' sec.'\n",
    "\n",
    "# Plot Results\n",
    "import matplotlib.pyplot as plt\n",
    "plt.plot(nEstimList,scoreList,'-ro')\n",
    "plt.title('Random Forest Classifier')\n",
    "plt.ylabel ('AUC ROC')\n",
    "plt.xlabel ('n_estimatorss')\n",
    "plt.show()"
   ]
  },
  {
   "cell_type": "markdown",
   "metadata": {},
   "source": [
    "## Часть 2. Логистическая регрессия"
   ]
  },
  {
   "cell_type": "markdown",
   "metadata": {},
   "source": [
    "1 Оцените качество логистической регрессии (sklearn.linear_model.LogisticRegression с L2-регуляризацией) с помощью кросс-валидации по той же схеме, которая использовалась для градиентного бустинга. Подберите при этом лучший параметр регуляризации (C). Какое наилучшее качество у вас получилось? Как оно соотносится с качеством градиентного бустинга? Чем вы можете объяснить эту разницу? Быстрее ли работает логистическая регрессия по сравнению с градиентным бустингом?"
   ]
  },
  {
   "cell_type": "code",
   "execution_count": 62,
   "metadata": {
    "collapsed": false
   },
   "outputs": [
    {
     "name": "stdout",
     "output_type": "stream",
     "text": [
      "Start logistic regression with C= 1e-07\n",
      "Average Score =  0.687172825424\n",
      "Time elapsed: 1\n",
      "Start logistic regression with C= 1e-06\n",
      "Average Score =  0.688089228326\n",
      "Time elapsed: 2\n",
      "Start logistic regression with C= 1e-05\n",
      "Average Score =  0.695026665369\n",
      "Time elapsed: 2\n",
      "Start logistic regression with C= 0.0001\n",
      "Average Score =  0.711162901344\n",
      "Time elapsed: 4\n",
      "Start logistic regression with C= 0.001\n",
      "Average Score =  0.716185125372\n",
      "Time elapsed: 7\n",
      "Start logistic regression with C= 0.01\n",
      "Average Score =  0.716398244398\n",
      "Time elapsed: 10\n",
      "Start logistic regression with C= 0.1\n",
      "Average Score =  0.716380165727\n",
      "Time elapsed: 11\n",
      "Start logistic regression with C= 1\n",
      "Average Score =  0.716376805707\n",
      "Time elapsed: 11\n"
     ]
    },
    {
     "data": {
      "image/png": "[encoded data removed]",
      "text/plain": [
       "<matplotlib.figure.Figure at 0x457cbbe0>"
      ]
     },
     "metadata": {},
     "output_type": "display_data"
    }
   ],
   "source": [
    "def LogRegressionCrossValiedation(X,y,Clist,nFolds):\n",
    "\tfrom sklearn.metrics import roc_auc_score\n",
    "\tfrom sklearn import linear_model\n",
    "\tScoreList = list();\n",
    "\tkf = KFold(len(X), n_folds=n_folds, shuffle=True);\n",
    "\tfor C in Clist:\n",
    "\t\tlogreg = linear_model.LogisticRegression(penalty='l2',C=C)\n",
    "\t\tscore = 0;\n",
    "\t\tstart_time = datetime.datetime.now();\n",
    "\t\tprint 'Start logistic regression with C=',C\n",
    "\t\tfor train_index, test_index in kf:\n",
    "\t\t\tX_train, X_test = X[train_index,:], X[test_index,:]\n",
    "\t\t\ty_train, y_test = y[train_index]  , y[test_index]\n",
    "\n",
    "\t\t\tlogreg.fit(X_train, y_train)\n",
    "\n",
    "\t\t\ty_pred = logreg.predict_proba(X_test)[:,1];\n",
    "\t\t\t\n",
    "\t\t\ts = roc_auc_score(y_test,y_pred);\n",
    "\t\t\tscore = score + s;\n",
    "    \n",
    "\t\tt = (datetime.datetime.now() - start_time).seconds;\n",
    "\t\tsAvg = score/nFolds;\n",
    "\t\tprint'Average Score = ',sAvg\n",
    "\t\tprint 'Time elapsed:', t \n",
    "\t\tScoreList.append(sAvg)\n",
    "\treturn ScoreList\n",
    "\n",
    "nFolds = 5;\n",
    "CCoefList = [1E-7,1E-6,1E-5,1E-4,1E-3,1E-2,1E-1,1];\n",
    "from sklearn import preprocessing\n",
    "scaler = preprocessing.StandardScaler().fit(X)\n",
    "Xscaled = scaler.transform(X);\n",
    "LogScoreList = LogRegressionCrossValiedation(Xscaled,y.values,CCoefList,nFolds);\n",
    "\n",
    "\n",
    "import matplotlib.pyplot as plt\n",
    "plt.plot(LogScoreList,'-ro')\n",
    "plt.title('Logistic Regression Classifier')\n",
    "plt.ylabel ('AUC ROC')\n",
    "plt.xlabel ('C values')\n",
    "plt.show()"
   ]
  },
  {
   "cell_type": "markdown",
   "metadata": {},
   "source": [
    "Какое качество получилось у логистической регрессии над всеми исходными признаками?  \n",
    "\n",
    ">0.716\n",
    "\n",
    "Как оно соотносится с качеством градиентного бустинга?\n",
    "\n",
    ">Немного превосходит его\n",
    "\n",
    "Чем вы можете объяснить эту разницу?\n",
    "\n",
    ">Разница незначительная\n",
    "\n",
    " Быстрее ли работает логистическая регрессия по сравнению с градиентным бустингом?\n",
    "\n",
    ">Да"
   ]
  },
  {
   "cell_type": "markdown",
   "metadata": {},
   "source": [
    "Среди признаков в выборке есть категориальные, которые мы использовали как числовые, что вряд ли является хорошей идеей. Категориальных признаков в этой задаче одиннадцать: lobby_type и r1_hero, r2_hero, ..., r5_hero, d1_hero, d2_hero, ..., d5_hero. Уберите их из выборки, и проведите кросс-валидацию для логистической регрессии на новой выборке с подбором лучшего параметра регуляризации. Изменилось ли качество? Чем вы можете это объяснить?"
   ]
  },
  {
   "cell_type": "code",
   "execution_count": 53,
   "metadata": {
    "collapsed": false
   },
   "outputs": [
    {
     "name": "stdout",
     "output_type": "stream",
     "text": [
      "Start logistic regression with C= 1e-07\n",
      "Average Score =  0.687346884081\n",
      "Time elapsed: 1\n",
      "Start logistic regression with C= 1e-05\n",
      "Average Score =  0.695208328991\n",
      "Time elapsed: 2\n",
      "Start logistic regression with C= 0.01\n",
      "Average Score =  0.716632401006\n",
      "Time elapsed: 10\n",
      "Start logistic regression with C= 0.001\n",
      "Average Score =  0.716447288702\n",
      "Time elapsed: 7\n",
      "Start logistic regression with C= 0.01\n",
      "Average Score =  0.716632401006\n",
      "Time elapsed: 11\n",
      "Start logistic regression with C= 1\n",
      "Average Score =  0.716603473878\n",
      "Time elapsed: 10\n"
     ]
    },
    {
     "data": {
      "image/png": "[encoded data removed]",
      "text/plain": [
       "<matplotlib.figure.Figure at 0xd3565f8>"
      ]
     },
     "metadata": {},
     "output_type": "display_data"
    }
   ],
   "source": [
    "def drop_categorial(X):\n",
    "    Xdroped = X.copy();\n",
    "    skipFieldList = ['lobby_type',\n",
    "                     'r1_hero',\n",
    "                     'r2_hero',\n",
    "                     'r3_hero',\n",
    "                     'r4_hero',\n",
    "                     'r5_hero',\n",
    "                     'd1_hero',\n",
    "                     'd2_hero',\n",
    "                     'd3_hero',\n",
    "                     'd4_hero',\n",
    "                     'd5_hero'];\n",
    "    for f in skipFieldList:\n",
    "        Xdroped.drop(f,1,inplace=True)\n",
    "    return Xdroped\n",
    "Xdroped = drop_categorial(X);\n",
    "from sklearn import preprocessing\n",
    "scaler = preprocessing.StandardScaler().fit(Xdroped)\n",
    "XDropedScaled = scaler.transform(Xdroped);\n",
    "nFolds = 5;\n",
    "CCoefList = [1E-7,1E-5,1E-2,1E-3,1E-2,1];\n",
    "LogScoreList = LogRegressionCrossValiedation(XDropedScaled,y.values,CCoefList,nFolds);\n",
    "import matplotlib.pyplot as plt\n",
    "plt.plot(LogScoreList,'-ro')\n",
    "plt.title('Logistic Regression Classifier with droped categorial values')\n",
    "plt.ylabel ('AUC ROC')\n",
    "plt.xlabel ('C values')\n",
    "plt.show()"
   ]
  },
  {
   "cell_type": "markdown",
   "metadata": {},
   "source": [
    "Как влияет на качество логистической регрессии удаление категориальных признаков (укажите новое значение метрики качества)? \n",
    "> 0.716, никак\n",
    "\n",
    "Чем вы можете объяснить это изменение?\n",
    "\n",
    "> Для классификатора эти данные являются шумовыми"
   ]
  },
  {
   "cell_type": "markdown",
   "metadata": {},
   "source": [
    "На предыдущем шаге мы исключили из выборки признаки rM_hero и dM_hero, которые показывают, какие именно герои играли за каждую команду. Это важные признаки — герои имеют разные характеристики, и некоторые из них выигрывают чаще, чем другие. Выясните из данных, сколько различных идентификаторов героев существует в данной игре (вам может пригодиться фукнция unique или value_counts)."
   ]
  },
  {
   "cell_type": "code",
   "execution_count": 44,
   "metadata": {
    "collapsed": false
   },
   "outputs": [
    {
     "name": "stdout",
     "output_type": "stream",
     "text": [
      "Unique heroes in set 108\n",
      "Maximum hero number is  112\n"
     ]
    }
   ],
   "source": [
    "import numpy as np\n",
    "HerosList = ['r1_hero',\n",
    "             'r2_hero',\n",
    "             'r3_hero',\n",
    "             'r4_hero',\n",
    "             'r5_hero',\n",
    "             'd1_hero',\n",
    "             'd2_hero',\n",
    "             'd3_hero',\n",
    "             'd4_hero',\n",
    "             'd5_hero'];\n",
    "Nunique= (np.unique(X[HerosList].values)).size;\n",
    "Nmax   = np.max(X[HerosList].values);\n",
    "matrix = X[HerosList].values ;\n",
    "print 'Unique heroes in set', N\n",
    "print 'Maximum hero number is ',Nmax"
   ]
  },
  {
   "cell_type": "markdown",
   "metadata": {},
   "source": [
    "Воспользуемся подходом \"мешок слов\" для кодирования информации о героях. Пусть всего в игре имеет N различных героев. Сформируем N признаков, при этом i-й будет равен нулю, если i-й герой не участвовал в матче; единице, если i-й герой играл за команду Radiant; минус единице, если i-й герой играл за команду Dire. Ниже вы можете найти код, который выполняет данной преобразование. Добавьте полученные признаки к числовым, которые вы использовали во втором пункте данного этапа."
   ]
  },
  {
   "cell_type": "code",
   "execution_count": 35,
   "metadata": {
    "collapsed": false
   },
   "outputs": [
    {
     "name": "stdout",
     "output_type": "stream",
     "text": [
      "Unique heroes in set 108\n",
      "Maximum hero number is  112\n"
     ]
    }
   ],
   "source": [
    "import numpy as np\n",
    "HerosList = ['r1_hero',\n",
    "             'r2_hero',\n",
    "             'r3_hero',\n",
    "             'r4_hero',\n",
    "             'r5_hero',\n",
    "             'd1_hero',\n",
    "             'd2_hero',\n",
    "             'd3_hero',\n",
    "             'd4_hero',\n",
    "             'd5_hero'];\n",
    "Nunique= (np.unique(X[HerosList].values)).size;\n",
    "Nmax   = np.max(X[HerosList].values);\n",
    "matrix = X[HerosList].values ;\n",
    "print 'Unique heroes in set', N\n",
    "print 'Maximum hero number is ',Nmax"
   ]
  },
  {
   "cell_type": "markdown",
   "metadata": {},
   "source": [
    "Добавьте полученные признаки к числовым, которые вы использовали во втором пункте данного этапа."
   ]
  },
  {
   "cell_type": "code",
   "execution_count": 55,
   "metadata": {
    "collapsed": false
   },
   "outputs": [],
   "source": [
    "def get_bagOfHeroes(X,N):\n",
    "    X_pick = np.zeros((X.shape[0], Nmax))\n",
    "    for i, match_id in enumerate(X.index):\n",
    "        for p in range(5):\n",
    "            X_pick[i, X.ix[match_id, 'r%d_hero' % (p+1)]-1] = 1\n",
    "            X_pick[i, X.ix[match_id, 'd%d_hero' % (p+1)]-1] = -1\n",
    "    return X_pick"
   ]
  },
  {
   "cell_type": "markdown",
   "metadata": {},
   "source": [
    "Проведите кросс-валидацию для логистической регрессии на новой выборке с подбором лучшего параметра регуляризации. Какое получилось качество? Улучшилось ли оно? Чем вы можете это объяснить?"
   ]
  },
  {
   "cell_type": "code",
   "execution_count": 57,
   "metadata": {
    "collapsed": false
   },
   "outputs": [
    {
     "name": "stdout",
     "output_type": "stream",
     "text": [
      "Start logistic regression with C= 1e-07\n",
      "Average Score =  0.68945044604\n",
      "Time elapsed: 1\n",
      "Start logistic regression with C= 1e-05\n",
      "Average Score =  0.699178524587\n",
      "Time elapsed: 2\n",
      "Start logistic regression with C= 0.001\n",
      "Average Score =  0.746177085291\n",
      "Time elapsed: 9\n",
      "Start logistic regression with C= 0.01\n",
      "Average Score =  0.75156752158\n",
      "Time elapsed: 16\n",
      "Start logistic regression with C= 0.1\n",
      "Average Score =  0.751776883217\n",
      "Time elapsed: 21\n",
      "Start logistic regression with C= 1\n",
      "Average Score =  0.751761295346\n",
      "Time elapsed: 23\n"
     ]
    },
    {
     "data": {
      "image/png": "[encoded data removed]",
      "text/plain": [
       "<matplotlib.figure.Figure at 0xfefa9e8>"
      ]
     },
     "metadata": {},
     "output_type": "display_data"
    }
   ],
   "source": [
    "X_pick = get_bagOfHeroes(X,Nmax);\n",
    "bagOfWordsX = np.concatenate( (XDropedScaled,X_pick) , axis = 1);\n",
    "CCoefList = [1E-7,1E-5,1E-3,1E-2,1E-1,1];\n",
    "nFolds = 5;\n",
    "LogScoreList = LogRegressionCrossValiedation(bagOfWordsX,y.values,CCoefList,nFolds);\n",
    "import matplotlib.pyplot as plt\n",
    "plt.plot(LogScoreList,'-ro')\n",
    "plt.title('Logistic Regression Classifier with bag of words')\n",
    "plt.ylabel ('AUC ROC')\n",
    "plt.xlabel ('C values')\n",
    "plt.show()"
   ]
  },
  {
   "cell_type": "markdown",
   "metadata": {},
   "source": [
    "Проведите кросс-валидацию для логистической регрессии на новой выборке с подбором лучшего параметра регуляризации. Какое получилось качество? Улучшилось ли оно? Чем вы можете это объяснить?\n",
    "> Качество выросло до 75.1%, это лучшая модель. Качество выросло так как рассмотрение категориальных признаков в качестве числовых не несет никакой информации, добавляя шум в модель. Убирая этот шум и превращая в адекватно рассматриваемую категорию получаем улучшение качества."
   ]
  },
  {
   "cell_type": "markdown",
   "metadata": {},
   "source": [
    "## Часть 3. Предсказание на тестовой выборке\n",
    "\n",
    "Постройте предсказания вероятностей победы команды Radiant для тестовой выборки с помощью лучшей из изученных моделей (лучшей с точки зрения AUC-ROC на кросс-валидации). Убедитесь, что предсказанные вероятности адекватные — находятся на отрезке [0, 1], не совпадают между собой (т.е. что модель не получилась константной)."
   ]
  },
  {
   "cell_type": "code",
   "execution_count": 58,
   "metadata": {
    "collapsed": false
   },
   "outputs": [
    {
     "name": "stdout",
     "output_type": "stream",
     "text": [
      "0.754446954846\n"
     ]
    }
   ],
   "source": [
    "#%% Get best model\n",
    "from sklearn import linear_model                            \n",
    "logreg = linear_model.LogisticRegression(penalty='l2',C=0.1)\n",
    "logreg.fit(bagOfWordsX,y.values)\n",
    "y_pred = logreg.predict_proba(bagOfWordsX)[:,1];\n",
    "s      = roc_auc_score(y.values,y_pred)\n",
    "print s"
   ]
  },
  {
   "cell_type": "code",
   "execution_count": 59,
   "metadata": {
    "collapsed": false
   },
   "outputs": [
    {
     "name": "stdout",
     "output_type": "stream",
     "text": [
      "Minimum value of win propability =  0.0084303232433\n",
      "Maximum value of win propability =  0.996371179596\n"
     ]
    },
    {
     "data": {
      "image/png": "[encoded data removed]",
      "text/plain": [
       "<matplotlib.figure.Figure at 0xcc7e5c0>"
      ]
     },
     "metadata": {},
     "output_type": "display_data"
    }
   ],
   "source": [
    "X_test = pandas.read_csv('features_test.csv',index_col='match_id')\n",
    "X_test = X_test.fillna(0);\n",
    "X_test_droped = drop_categorial(X_test);\n",
    "scaler = preprocessing.StandardScaler().fit(Xdroped)\n",
    "X_test_scaled = scaler.transform(X_test_droped);\n",
    "bagOfTestHeros = get_bagOfHeroes(X_test,Nmax);\n",
    "X_test_full = np.concatenate((X_test_scaled,bagOfTestHeros) , axis = 1);             \n",
    "y_pred_test = logreg.predict_proba(X_test_full)[:,1];\n",
    "print 'Minimum value of win propability = ', np.min(y_pred_test)\n",
    "print 'Maximum value of win propability = ', np.max(y_pred_test)\n",
    "plt.hist(y_pred,bins=100);\n",
    "plt.title('prediction value distribution')\n",
    "plt.ylabel ('Number of matches in bins')\n",
    "plt.xlabel ('1% bin')\n",
    "plt.show()\n"
   ]
  },
  {
   "cell_type": "markdown",
   "metadata": {},
   "source": [
    "Видим, что имеет место некоторое распределение, вероятности распределены от 0 до 1."
   ]
  },
  {
   "cell_type": "code",
   "execution_count": 61,
   "metadata": {
    "collapsed": false
   },
   "outputs": [],
   "source": [
    "#%% Save to CSV for Kaggle\n",
    "import pandas as pd\n",
    "dfRes = pd.DataFrame(y_pred_test, index = X_test.index,columns={'radiant_win'});\n",
    "dfRes.to_csv('test_results3.csv');\n"
   ]
  },
  {
   "cell_type": "markdown",
   "metadata": {},
   "source": [
    "https://inclass.kaggle.com/c/dota-2-win-probability-prediction/leaderboard?submissionId=4306003\n",
    "\n",
    "Полученный результат 0.7551, что довольно близко к результату на тренировочных данных, т.е. переобучения удалось избежать.\n",
    "\n",
    "Вместе с тем, попытка обучиться на тех же данных градиетным бустингом с 500 деревьями дала результат 0.76 на тренировочной выборке, но только 0.74552 на тестовой при гораздо большем времени обучения.\n",
    "\n",
    "345/811, по крайней мере попадание в верхнюю часть списка\n"
   ]
  },
  {
   "cell_type": "code",
   "execution_count": null,
   "metadata": {
    "collapsed": true
   },
   "outputs": [],
   "source": []
  }
 ],
 "metadata": {
  "kernelspec": {
   "display_name": "Python 2",
   "language": "python",
   "name": "python2"
  },
  "language_info": {
   "codemirror_mode": {
    "name": "ipython",
    "version": 2
   },
   "file_extension": ".py",
   "mimetype": "text/x-python",
   "name": "python",
   "nbconvert_exporter": "python",
   "pygments_lexer": "ipython2",
   "version": "2.7.13"
  }
 },
 "nbformat": 4,
 "nbformat_minor": 2
}

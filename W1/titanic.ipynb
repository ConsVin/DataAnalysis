{
 "cells": [
  {
   "cell_type": "code",
   "execution_count": 1,
   "metadata": {
    "collapsed": false
   },
   "outputs": [
    {
     "name": "stdout",
     "output_type": "stream",
     "text": [
      "# 1. Number of males and females\n",
      "Number of  Males   577 \n",
      "Number of  Females 314 \n"
     ]
    }
   ],
   "source": [
    "import pandas\n",
    "data = pandas.read_csv('titanic.csv',index_col='PassengerId');\n",
    "\n",
    "print '# 1. Number of males and females'\n",
    "numMales= len(data[data.Sex=='male']);\n",
    "numFemale = len(data[data.Sex=='female']);\n",
    "print 'Number of  Males   %d ' % numMales\n",
    "print 'Number of  Females %d ' % numFemale"
   ]
  },
  {
   "cell_type": "code",
   "execution_count": 2,
   "metadata": {
    "collapsed": false
   },
   "outputs": [
    {
     "name": "stdout",
     "output_type": "stream",
     "text": [
      "# 2. Number of survived persons\n",
      "Survived 342 \n",
      "      of 891 \n",
      "   perc 38.38%\n"
     ]
    }
   ],
   "source": [
    "print '# 2. Number of survived persons'\n",
    "nSurvived = len(data[data.Survived == 1])\n",
    "nTotal = len(data)\n",
    "nSurvivedRatio = nSurvived / float(nTotal)*100\n",
    "print 'Survived %d '  % nSurvived\n",
    "print '      of %d '  % nTotal\n",
    "print '   perc %.2f%%' % nSurvivedRatio"
   ]
  },
  {
   "cell_type": "code",
   "execution_count": 3,
   "metadata": {
    "collapsed": false
   },
   "outputs": [
    {
     "name": "stdout",
     "output_type": "stream",
     "text": [
      "#3 First Class Passenger Number\n",
      "First Class Passengers 216\n",
      "First Class Ratio 24.24%\n"
     ]
    }
   ],
   "source": [
    "print '#3 First Class Passenger Number'\n",
    "nFirstClass = len(data[data.Pclass == 1]);\n",
    "print 'First Class Passengers %d' % nFirstClass \n",
    "nFirstClassRatio = nFirstClass / float(nTotal) * 100;\n",
    "print 'First Class Ratio %.2f%%' % nFirstClassRatio"
   ]
  },
  {
   "cell_type": "code",
   "execution_count": 10,
   "metadata": {
    "collapsed": false
   },
   "outputs": [
    {
     "name": "stdout",
     "output_type": "stream",
     "text": [
      "#4  Age average and median value\n"
     ]
    },
    {
     "ename": "TypeError",
     "evalue": "'Series' object is not callable",
     "output_type": "error",
     "traceback": [
      "\u001b[1;31m---------------------------------------------------------------------------\u001b[0m",
      "\u001b[1;31mTypeError\u001b[0m                                 Traceback (most recent call last)",
      "\u001b[1;32m<ipython-input-10-2b61fa936054>\u001b[0m in \u001b[0;36m<module>\u001b[1;34m()\u001b[0m\n\u001b[0;32m      1\u001b[0m \u001b[1;32mprint\u001b[0m \u001b[1;34m'#4  Age average and median value'\u001b[0m\u001b[1;33m\u001b[0m\u001b[0m\n\u001b[1;32m----> 2\u001b[1;33m \u001b[1;32mprint\u001b[0m \u001b[0mdata\u001b[0m\u001b[1;33m.\u001b[0m\u001b[0mAge\u001b[0m\u001b[1;33m(\u001b[0m\u001b[1;33m)\u001b[0m\u001b[1;33m\u001b[0m\u001b[0m\n\u001b[0m",
      "\u001b[1;31mTypeError\u001b[0m: 'Series' object is not callable"
     ]
    }
   ],
   "source": [
    "print '#4  Age average and median value'\n",
    "print data.Age()"
   ]
  },
  {
   "cell_type": "code",
   "execution_count": null,
   "metadata": {
    "collapsed": true
   },
   "outputs": [],
   "source": []
  }
 ],
 "metadata": {
  "anaconda-cloud": {},
  "kernelspec": {
   "display_name": "Python [Root]",
   "language": "python",
   "name": "Python [Root]"
  },
  "language_info": {
   "codemirror_mode": {
    "name": "ipython",
    "version": 2
   },
   "file_extension": ".py",
   "mimetype": "text/x-python",
   "name": "python",
   "nbconvert_exporter": "python",
   "pygments_lexer": "ipython2",
   "version": "2.7.12"
  }
 },
 "nbformat": 4,
 "nbformat_minor": 0
}
